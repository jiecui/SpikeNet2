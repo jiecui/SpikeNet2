{
 "cells": [
  {
   "cell_type": "code",
   "execution_count": null,
   "metadata": {},
   "outputs": [],
   "source": [
    "import scipy.io as sio\n",
    "import numpy as np\n",
    "import os\n",
    "import glob\n",
    "\n",
    "def batch_convert_mat_to_npy(input_dir, output_dir=None):\n",
    "    \"\"\"\n",
    "    Batch convert all .mat files in a directory to .npy format.\n",
    "\n",
    "    Parameters:\n",
    "    input_dir: Directory containing .mat files\n",
    "    output_dir: Output directory (optional, defaults to the input directory)\n",
    "    \"\"\"\n",
    "    if output_dir is None:\n",
    "        output_dir = input_dir\n",
    "    \n",
    "    os.makedirs(output_dir, exist_ok=True)\n",
    "    \n",
    "    mat_files = glob.glob(os.path.join(input_dir, '*.mat'))\n",
    "        \n",
    "    success_count = 0\n",
    "    for mat_file in mat_files:\n",
    "        try:\n",
    "\n",
    "            data = sio.loadmat(mat_file)['data']\n",
    "            \n",
    "\n",
    "            base_name = os.path.splitext(os.path.basename(mat_file))[0]\n",
    "            npy_file = os.path.join(output_dir, base_name + '.npy')\n",
    "            \n",
    "\n",
    "            np.save(npy_file, data)\n",
    "            \n",
    "            success_count += 1\n",
    "            \n",
    "        except Exception as e:\n",
    "            print(f\"✗ failed {mat_file}: {e}\")\n",
    "    \n",
    "\n",
    "if __name__ == \"__main__\":\n",
    "    input_directory = 'your_path/Events/real/'\n",
    "    output_directory = 'your_path/Events/real_npy/'\n",
    "    \n",
    "    batch_convert_mat_to_npy(input_directory, output_directory)"
   ]
  },
  {
   "cell_type": "code",
   "execution_count": null,
   "metadata": {},
   "outputs": [],
   "source": []
  }
 ],
 "metadata": {
  "kernelspec": {
   "display_name": "ecg",
   "language": "python",
   "name": "python3"
  },
  "language_info": {
   "codemirror_mode": {
    "name": "ipython",
    "version": 3
   },
   "file_extension": ".py",
   "mimetype": "text/x-python",
   "name": "python",
   "nbconvert_exporter": "python",
   "pygments_lexer": "ipython3",
   "version": "3.10.14"
  }
 },
 "nbformat": 4,
 "nbformat_minor": 2
}
